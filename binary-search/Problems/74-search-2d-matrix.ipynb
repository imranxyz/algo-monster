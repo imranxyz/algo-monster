{
 "cells": [
  {
   "cell_type": "markdown",
   "metadata": {
    "collapsed": false
   },
   "source": [
    "### Problem Statement\n",
    "\n",
    "- https://leetcode.com/problems/search-a-2d-matrix/\n",
    "\n",
    "Write an efficient algorithm that searches for a value `target` in an `m x n` integer matrix `matrix`. This matrix has the following properties:\n",
    "\n",
    "- Integers in each row are sorted from left to right.\n",
    "- The first integer of each row is greater than the last integer of the previous row.\n",
    "\n",
    "![](https://assets.leetcode.com/uploads/2020/10/05/mat.jpg)"
   ]
  },
  {
   "cell_type": "markdown",
   "metadata": {
    "collapsed": false
   },
   "source": [
    "#### Analysis\n",
    "\n",
    "The problem statement states that the values of the last column of the `ith` row is greater than the first column of `(i+1)th` row. Also, each row is sorted.\n",
    "This means that, if will linearly arrange the elements of each row, we will have a sorted 1D array. So we can now perform a binary search over it.\n",
    "\n",
    "**How will the matrix behave like an array without actually creating an auxiliary array?**\n",
    "\n",
    "It could be achieved by the following formula →\n",
    "\n",
    "- i=row and j=column is the position of the value\n",
    "    - A `n x m` matrix converted into an array: `matrix[i][j] → Array[i * TotalColumns + j]`\n",
    "    - Example: ` 3X4 matrix[1][3]= Array[1 * 4 + 3] = 7` in 1D array\n",
    "- Index = Value's 1 Dimension Index\n",
    "    - An array can be converted into `n x m` matrix: `a[i]/value → matrix[Index / TotalColumns][Index % TotalColumns]`\n",
    "    - Example: `value = Matrix[mid / TotalColumns][mid % TotalColumns]`, get mid index's value\n",
    "\n",
    "#### Complexity\n",
    "\n",
    "- Time : `O(log(m*n))` = `O(log(m) + log(n))`\n",
    "- Space : `O(1)`\n",
    "\n",
    "#### Additional\n",
    "\n",
    "- https://www.youtube.com/watch?v=FOa55B9Ikfg\n",
    "- https://afteracademy.com/blog/search-in-a-2d-matrix"
   ]
  },
  {
   "cell_type": "code",
   "execution_count": 1,
   "metadata": {
    "collapsed": false
   },
   "outputs": [
   ],
   "source": [
    "from typing import List\n",
    "\n",
    "class Solution:\n",
    "    def searchMatrix(self, matrix: List[List[int]], target: int) -> bool:\n",
    "        if not matrix:\n",
    "            return False\n",
    "\n",
    "        row = len(matrix)\n",
    "        col = len(matrix[0])\n",
    "\n",
    "        start = 0\n",
    "        end = (row * col) - 1\n",
    "\n",
    "        while start <= end:\n",
    "            mid = start + (end - start) // 2\n",
    "            value = matrix[mid // col][mid % col]\n",
    "\n",
    "            if value == target:\n",
    "                return True\n",
    "            elif target > value:\n",
    "                start = mid + 1\n",
    "            else:\n",
    "                end = mid - 1\n",
    "\n",
    "        return False"
   ]
  },
  {
   "cell_type": "code",
   "execution_count": 2,
   "metadata": {
    "collapsed": false
   },
   "outputs": [
    {
     "data": {
      "text/plain": [
       "True"
      ]
     },
     "execution_count": 2,
     "metadata": {
     },
     "output_type": "execute_result"
    }
   ],
   "source": [
    "matrix = [[0,1,2,3],[10,11,12,13],[20,21,22,23]]\n",
    "target = 2\n",
    "\n",
    "solution = Solution()\n",
    "solution.searchMatrix(matrix, target)"
   ]
  },
  {
   "cell_type": "code",
   "execution_count": 3,
   "metadata": {
    "collapsed": false
   },
   "outputs": [
    {
     "data": {
      "text/plain": [
       "True"
      ]
     },
     "execution_count": 3,
     "metadata": {
     },
     "output_type": "execute_result"
    }
   ],
   "source": [
    "matrix = [[1,3,5,7],[10,11,16,20],[23,30,34,60]]\n",
    "target = 3\n",
    "\n",
    "solution = Solution()\n",
    "solution.searchMatrix(matrix, target)"
   ]
  },
  {
   "cell_type": "code",
   "execution_count": 4,
   "metadata": {
    "collapsed": false
   },
   "outputs": [
    {
     "data": {
      "text/plain": [
       "False"
      ]
     },
     "execution_count": 4,
     "metadata": {
     },
     "output_type": "execute_result"
    }
   ],
   "source": [
    "matrix = [[1,3,5,7],[10,11,16,20],[23,30,34,60]]\n",
    "target = 13\n",
    "\n",
    "solution = Solution()\n",
    "solution.searchMatrix(matrix, target)"
   ]
  }
 ],
 "metadata": {
  "kernelspec": {
   "display_name": "Python 3 (system-wide)",
   "language": "python",
   "metadata": {
    "cocalc": {
     "description": "Python 3 programming language",
     "priority": 100,
     "url": "https://www.python.org/"
    }
   },
   "name": "python3",
   "resource_dir": "/ext/jupyter/kernels/python3"
  },
  "language_info": {
   "codemirror_mode": {
    "name": "ipython",
    "version": 3
   },
   "file_extension": ".py",
   "mimetype": "text/x-python",
   "name": "python",
   "nbconvert_exporter": "python",
   "pygments_lexer": "ipython3",
   "version": "3.8.10"
  }
 },
 "nbformat": 4,
 "nbformat_minor": 4
}