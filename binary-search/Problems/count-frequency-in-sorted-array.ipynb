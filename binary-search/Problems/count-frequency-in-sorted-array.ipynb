{
 "cells": [
  {
   "cell_type": "markdown",
   "metadata": {
    "collapsed": false
   },
   "source": [
    "### Problem Statement\n",
    "\n",
    "Given a sorted array `Arr` of size `N` and a number `X`, you need to find the number of occurrences of `X` in `Arr`.\n",
    "\n",
    "- https://www.geeksforgeeks.org/count-number-of-occurrences-or-frequency-in-a-sorted-array/\n",
    "- https://practice.geeksforgeeks.org/problems/number-of-occurrence2259/1"
   ]
  },
  {
   "cell_type": "markdown",
   "metadata": {
    "collapsed": false
   },
   "source": [
    "#### Approach\n",
    "\n",
    "- Same as [Left most and right most index](https://www.geeksforgeeks.org/find-first-and-last-positions-of-an-element-in-a-sorted-array/) with little modification\n",
    "\n",
    "#### Complexity\n",
    "\n",
    "- Time: `O(logn)`\n",
    "- Space: `O(1)`"
   ]
  },
  {
   "cell_type": "code",
   "execution_count": 3,
   "metadata": {
    "collapsed": false
   },
   "outputs": [
    {
     "name": "stdout",
     "output_type": "stream",
     "text": [
      "Count is 3\n"
     ]
    }
   ],
   "source": [
    "def countOccurrences(nums, target, flag):\n",
    "    start = 0\n",
    "    end = len(nums) - 1\n",
    "    position = -1\n",
    "\n",
    "    while start <= end:\n",
    "        mid = start + (end - start) // 2\n",
    "\n",
    "        if target == nums[mid]:\n",
    "            position = mid\n",
    "            if flag:\n",
    "                end = mid - 1\n",
    "            else:\n",
    "                start = mid + 1\n",
    "        elif target > nums[mid]:\n",
    "            start = mid + 1\n",
    "        else:\n",
    "            end = mid - 1\n",
    "\n",
    "    return position\n",
    "\n",
    "\n",
    "if __name__ == '__main__':\n",
    "    nums = [8,9,10,12,12,12]\n",
    "    leftIndex = countOccurrences(nums, 12, True)\n",
    "\n",
    "    if leftIndex == -1:\n",
    "        print(0)\n",
    "    else:\n",
    "        rightIndex = countOccurrences(nums, 12, False)\n",
    "        print(f'Count is {(rightIndex - leftIndex) + 1}')"
   ]
  },
  {
   "cell_type": "code",
   "execution_count": 0,
   "metadata": {
    "collapsed": false
   },
   "outputs": [
   ],
   "source": [
   ]
  }
 ],
 "metadata": {
  "kernelspec": {
   "display_name": "Python 3 (system-wide)",
   "language": "python",
   "metadata": {
    "cocalc": {
     "description": "Python 3 programming language",
     "priority": 100,
     "url": "https://www.python.org/"
    }
   },
   "name": "python3",
   "resource_dir": "/ext/jupyter/kernels/python3"
  },
  "language_info": {
   "codemirror_mode": {
    "name": "ipython",
    "version": 3
   },
   "file_extension": ".py",
   "mimetype": "text/x-python",
   "name": "python",
   "nbconvert_exporter": "python",
   "pygments_lexer": "ipython3",
   "version": "3.8.10"
  }
 },
 "nbformat": 4,
 "nbformat_minor": 4
}