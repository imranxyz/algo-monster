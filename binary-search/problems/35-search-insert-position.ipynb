{
 "cells": [
  {
   "cell_type": "markdown",
   "metadata": {
    "collapsed": false
   },
   "source": [
    "### Problem Statement\n",
    "\n",
    "Given a sorted array `arr[]` consisting of `N` distinct (unique) integers and an integer `K`, the task is to find the index of `K`, if it’s present in the array `arr[]`. Otherwise, find the index where `K` must be inserted to keep the array sorted.\n",
    "- https://www.geeksforgeeks.org/search-insert-position-of-k-in-a-sorted-array/\n",
    "\n",
    "OR\n",
    "\n",
    "Given a sorted array of distinct integers and a target value, return the index if the target is found. If not, return the index where it would be if it were inserted in order.\n",
    "- https://leetcode.com/problems/search-insert-position/"
   ]
  },
  {
   "cell_type": "markdown",
   "metadata": {
    "collapsed": false
   },
   "source": [
    "### Naïve Approach\n",
    "\n",
    "- Iterate over every element of the array `arr[]` and search for integer `K.`\n",
    "- If any array element is found to be equal to `K`, return the index of `K`.\n",
    "- Otherwise, if any array element is found to be `greater` than `K`, print that index as the insert position of `K`. \n",
    "\t- If no element is found to be exceeding (সীমা বা মাত্রা ছাড়িয়ে যাওয়া) `K`, `K` must be inserted after the last array element."
   ]
  },
  {
   "cell_type": "code",
   "execution_count": 1,
   "metadata": {
    "collapsed": false
   },
   "outputs": [
   ],
   "source": [
    "# O(n) | O(1)\n",
    "def searchInsert(nums, target):\n",
    "    for idx, value in enumerate(nums):\n",
    "        if target == value:\n",
    "            return idx\n",
    "\n",
    "        # looking for the first index that happens to be larger than target\n",
    "        if value > target:\n",
    "            return idx\n",
    "\n",
    "    # if all elements are smaller\n",
    "    return idx + 1"
   ]
  },
  {
   "cell_type": "code",
   "execution_count": 2,
   "metadata": {
    "collapsed": false
   },
   "outputs": [
    {
     "name": "stdout",
     "output_type": "stream",
     "text": [
      "1\n",
      "4\n",
      "2\n",
      "0\n"
     ]
    }
   ],
   "source": [
    "nums = [1,3,5,6]\n",
    "target = 2\n",
    "\n",
    "print(searchInsert(nums, target)) # 1\n",
    "print(searchInsert(nums, 7)) # 4\n",
    "print(searchInsert(nums, 4)) # 2\n",
    "print(searchInsert(nums, 0)) # 0"
   ]
  },
  {
   "cell_type": "markdown",
   "metadata": {
    "collapsed": false
   },
   "source": [
    "### Optimized Approach\n",
    "\n",
    "- Basically it's a general binary search\n",
    "- Looking for the first index that happens to be greater than target"
   ]
  },
  {
   "cell_type": "code",
   "execution_count": 3,
   "metadata": {
    "collapsed": false
   },
   "outputs": [
   ],
   "source": [
    "from typing import List\n",
    "\n",
    "# O(logn) | O(1)\n",
    "class Solution:\n",
    "    def searchInsert(self, nums: List[int], target: int) -> int:\n",
    "        start_index = 0\n",
    "        last_index = len(nums) - 1\n",
    "\n",
    "        while start_index <= last_index:\n",
    "            mid_index = start_index + (last_index - start_index) // 2\n",
    "\n",
    "            if target == nums[mid_index]: \n",
    "                return mid_index\n",
    "\n",
    "            if target > nums[mid_index]:\n",
    "                start_index = mid_index + 1\n",
    "            else:\n",
    "                last_index = mid_index - 1\n",
    "\n",
    "        return start_index # or `last_index + 1`"
   ]
  },
  {
   "cell_type": "code",
   "execution_count": 4,
   "metadata": {
    "collapsed": false
   },
   "outputs": [
    {
     "name": "stdout",
     "output_type": "stream",
     "text": [
      "1\n",
      "4\n",
      "2\n",
      "0\n",
      "1\n"
     ]
    }
   ],
   "source": [
    "nums = [1,3,5,6]\n",
    "target = 2\n",
    "\n",
    "solution = Solution()\n",
    "\n",
    "print(solution.searchInsert(nums, target)) # 1\n",
    "print(solution.searchInsert(nums, 7)) # 4\n",
    "print(solution.searchInsert(nums, 4)) # 2\n",
    "print(solution.searchInsert(nums, 0)) # 0\n",
    "print(solution.searchInsert([2, 10], 5)) # 1"
   ]
  }
 ],
 "metadata": {
  "kernelspec": {
   "display_name": "Python 3 (system-wide)",
   "language": "python",
   "metadata": {
    "cocalc": {
     "description": "Python 3 programming language",
     "priority": 100,
     "url": "https://www.python.org/"
    }
   },
   "name": "python3",
   "resource_dir": "/ext/jupyter/kernels/python3"
  },
  "language_info": {
   "codemirror_mode": {
    "name": "ipython",
    "version": 3
   },
   "file_extension": ".py",
   "mimetype": "text/x-python",
   "name": "python",
   "nbconvert_exporter": "python",
   "pygments_lexer": "ipython3",
   "version": "3.8.10"
  }
 },
 "nbformat": 4,
 "nbformat_minor": 4
}