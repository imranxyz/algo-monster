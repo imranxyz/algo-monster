{
 "cells": [
  {
   "cell_type": "markdown",
   "metadata": {
    "collapsed": false
   },
   "source": [
    "### Problem Statement\n",
    "\n",
    "https://leetcode.com/problems/two-sum-less-than-k/\n",
    "\n",
    "Given an array `nums` of integers and integer `k`, return the maximum sum such that there exists `i < j` with `nums[i] + nums[j] = sum` and `sum < k`.\n",
    "If no `i, j` exist satisfying this equation, return `-1`."
   ]
  },
  {
   "cell_type": "markdown",
   "metadata": {
    "collapsed": false
   },
   "source": [
    "### Analysis\n",
    "\n",
    "We will put a pointer `left` to the start of the array, and a pointer `right` to the end of the array. We will get the values in these positions and sum up them. If sum is less than `K` then\n",
    "- Update the sum with max of the previous sum & current sum\n",
    "- Increase `left` pointer\n",
    "\n",
    "If the sum is greater the `K` limit then we will decrease `right` pointer.\n",
    "\n",
    "Then we will return the maximum sum which satisfies the given criteria: `sum < K`\n",
    "\n",
    "### Complexity\n",
    "\n",
    "- Time: `O(n)`\n",
    "- Space: `O(1)`\n",
    "\n",
    "### Notes\n",
    "\n",
    "Sorted and then use two pointers technique."
   ]
  },
  {
   "cell_type": "markdown",
   "metadata": {
    "collapsed": false
   },
   "source": [
    "### Naive Approach"
   ]
  },
  {
   "cell_type": "code",
   "execution_count": 5,
   "metadata": {
    "collapsed": false,
    "vscode": {
     "languageId": "python"
    }
   },
   "outputs": [
    {
     "data": {
      "text/plain": [
       "-1"
      ]
     },
     "execution_count": 5,
     "metadata": {},
     "output_type": "execute_result"
    }
   ],
   "source": [
    "from typing import List\n",
    "\n",
    "# O(n^2) | O(1)\n",
    "class Solution:\n",
    "    def twoSumLessThanK(self, nums: List[int], k: int) -> int:\n",
    "        if len(nums) < 2:\n",
    "            return -1\n",
    "        max_sum = -1\n",
    "\n",
    "        for i, value in enumerate(nums):\n",
    "            for j in range(i+1, len(nums)):\n",
    "                current_sum = value + nums[j]\n",
    "                if current_sum < k:\n",
    "                    max_sum = max(max_sum, current_sum)\n",
    "\n",
    "        return max_sum\n",
    "\n",
    "nums = [10,20,30]\n",
    "k = 15\n",
    "\n",
    "solution = Solution()\n",
    "solution.twoSumLessThanK(nums, k)"
   ]
  },
  {
   "cell_type": "markdown",
   "metadata": {
    "collapsed": false
   },
   "source": [
    "### Optimized Approach"
   ]
  },
  {
   "cell_type": "code",
   "execution_count": 2,
   "metadata": {
    "collapsed": false,
    "vscode": {
     "languageId": "python"
    }
   },
   "outputs": [],
   "source": [
    "from typing import List\n",
    "\n",
    "class Solution:\n",
    "    def twoSumLessThanK(self, nums: List[int], k: int) -> int:\n",
    "        if len(nums) < 2: return -1\n",
    "        nums.sort() # time cost O(nlogn)\n",
    "\n",
    "        left = 0\n",
    "        right = len(nums) - 1\n",
    "        Sum = -1\n",
    "\n",
    "        while left < right:\n",
    "            current_sum = nums[left] + nums[right]\n",
    "            if current_sum < k:\n",
    "                Sum = max(Sum, current_sum)\n",
    "                left += 1\n",
    "            else:\n",
    "                right -= 1\n",
    "        return Sum"
   ]
  },
  {
   "cell_type": "code",
   "execution_count": 3,
   "metadata": {
    "collapsed": false,
    "vscode": {
     "languageId": "python"
    }
   },
   "outputs": [
    {
     "data": {
      "text/plain": [
       "58"
      ]
     },
     "execution_count": 3,
     "metadata": {},
     "output_type": "execute_result"
    }
   ],
   "source": [
    "nums = [34,23,1,24,75,33,54,8]\n",
    "k = 60\n",
    "\n",
    "solution = Solution()\n",
    "solution.twoSumLessThanK(nums, k)"
   ]
  },
  {
   "cell_type": "code",
   "execution_count": 4,
   "metadata": {
    "collapsed": false,
    "vscode": {
     "languageId": "python"
    }
   },
   "outputs": [
    {
     "data": {
      "text/plain": [
       "-1"
      ]
     },
     "execution_count": 4,
     "metadata": {},
     "output_type": "execute_result"
    }
   ],
   "source": [
    "nums = [10,20,30]\n",
    "k = 15\n",
    "\n",
    "solution = Solution()\n",
    "solution.twoSumLessThanK(nums, k)"
   ]
  },
  {
   "cell_type": "markdown",
   "metadata": {
    "collapsed": false
   },
   "source": [
    "### Modified Version\n",
    "\n",
    "https://www.geeksforgeeks.org/pair-with-largest-sum-which-is-less-than-k-in-the-array/\n",
    "\n",
    "Given an array `arr` of size `N` and an integer `K`. The task is to find the `pair of integers` in the array such that their sum is maximum but less than `K`.\n",
    "\n",
    "**Note:** Out of every possible pair, find pair with a maximum absolute difference."
   ]
  },
  {
   "cell_type": "code",
   "execution_count": null,
   "metadata": {
    "collapsed": false,
    "vscode": {
     "languageId": "python"
    }
   },
   "outputs": [],
   "source": [
    "# coming"
   ]
  }
 ],
 "metadata": {
  "kernelspec": {
   "display_name": "Python 3 (system-wide)",
   "language": "python",
   "metadata": {
    "cocalc": {
     "description": "Python 3 programming language",
     "priority": 100,
     "url": "https://www.python.org/"
    }
   },
   "name": "python3",
   "resource_dir": "/ext/jupyter/kernels/python3"
  }
 },
 "nbformat": 4,
 "nbformat_minor": 4
}
