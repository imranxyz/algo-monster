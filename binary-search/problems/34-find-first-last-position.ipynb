{
 "cells": [
  {
   "cell_type": "markdown",
   "metadata": {
    "collapsed": false
   },
   "source": [
    "### Problem Statement\n",
    "\n",
    "Given an array of integers `nums` sorted in non-decreasing order, find the starting and ending position of a given `target` value. If target is not found in the array, `return [-1, -1]`\n",
    "\n",
    "You must write an algorithm with `O(log n)` runtime complexity.\n",
    "\n",
    "- https://leetcode.com/problems/find-first-and-last-position-of-element-in-sorted-array/"
   ]
  },
  {
   "cell_type": "markdown",
   "metadata": {
    "collapsed": false
   },
   "source": [
    "#### Analysis\n",
    "\n",
    "We have a sorted array `nums` and a `target` value which we need to search in the array. This description suggests that it is a clear case of `binary search`. The catch is that the target can be repeated in the array.\n",
    "\n",
    "Thus, there might be multiple indices where the target can be found. Thus, we need to find these indices. If the element is not found then we should return `[-1,-1]`.\n",
    "\n",
    "#### Time Complexity\n",
    "\n",
    "- Time: `O(logn)`\n",
    "- Space: `O(1)`\n",
    "\n",
    "#### Approach\n",
    "\n",
    "We will use binary search algorithm to find the first and last occurrences of the `target` separately.\n",
    "\n",
    "- For first occurrence, we will first find the index of the target and then search again in the `left subarray` as long as we are finding the target number.\n",
    "- For last occurrence, we will first find the index of the target and then search again in the `right subarray` as long as we are finding the target number.\n"
   ]
  },
  {
   "cell_type": "code",
   "execution_count": 1,
   "metadata": {
    "collapsed": false
   },
   "outputs": [
   ],
   "source": [
    "from typing import List\n",
    "\n",
    "class Solution:\n",
    "    def search(self, nums, target, flag):\n",
    "        start = 0\n",
    "        end = len(nums) - 1\n",
    "        position = -1\n",
    "\n",
    "        while start <= end:\n",
    "            mid = start + (end - start) // 2\n",
    "\n",
    "            if target > nums[mid]:\n",
    "                start = mid + 1\n",
    "            elif target < nums[mid]:\n",
    "                end = mid - 1\n",
    "            else:\n",
    "                position = mid\n",
    "                if flag:\n",
    "                    end = mid - 1\n",
    "                else:\n",
    "                    start = mid + 1\n",
    "\n",
    "        return position\n",
    "\n",
    "    def searchRange(self, nums: List[int], target: int) -> List[int]:\n",
    "        if not nums or len(nums) == 1:\n",
    "            return [-1, -1]\n",
    "\n",
    "        left = self.search(nums, target, True)\n",
    "        right = self.search(nums, target, False)\n",
    "\n",
    "        return [left, right]\n"
   ]
  },
  {
   "cell_type": "code",
   "execution_count": 2,
   "metadata": {
    "collapsed": false
   },
   "outputs": [
    {
     "data": {
      "text/plain": [
       "[3, 4]"
      ]
     },
     "execution_count": 2,
     "metadata": {
     },
     "output_type": "execute_result"
    }
   ],
   "source": [
    "nums = [5,7,7,8,8,10]\n",
    "target = 8\n",
    "solution = Solution()\n",
    "solution.searchRange(nums, target)"
   ]
  },
  {
   "cell_type": "code",
   "execution_count": 3,
   "metadata": {
    "collapsed": false
   },
   "outputs": [
    {
     "data": {
      "text/plain": [
       "[-1, -1]"
      ]
     },
     "execution_count": 3,
     "metadata": {
     },
     "output_type": "execute_result"
    }
   ],
   "source": [
    "nums = [5,7,7,8,8,10]\n",
    "target = 6\n",
    "solution = Solution()\n",
    "solution.searchRange(nums, target)"
   ]
  },
  {
   "cell_type": "markdown",
   "metadata": {
    "collapsed": false
   },
   "source": [
    "### Little Modified Version\n",
    "\n",
    "Given a sorted array having `N` elements, find the indices of the first and last occurrences of an element `X` in the given array.\n",
    "\n",
    "**Note:** If the number `X` is not found in the array, return `-1` as an array.\n",
    "\n",
    "- https://www.geeksforgeeks.org/find-first-and-last-positions-of-an-element-in-a-sorted-array/"
   ]
  },
  {
   "cell_type": "code",
   "execution_count": 4,
   "metadata": {
    "collapsed": false
   },
   "outputs": [
   ],
   "source": [
    "class Solution:\n",
    "    def search(self, nums, n, target, flag):\n",
    "        start = 0\n",
    "        end = n - 1\n",
    "        position = -1\n",
    "\n",
    "        while start <= end:\n",
    "            mid = (start + end)//2\n",
    "            if target > nums[mid]:\n",
    "                start = mid + 1\n",
    "            elif target < nums[mid]:\n",
    "                end = mid - 1\n",
    "            else:\n",
    "                position = mid\n",
    "                if flag:\n",
    "                    end = mid - 1\n",
    "                else:\n",
    "                    start = mid + 1\n",
    "\n",
    "        return position\n",
    "\n",
    "    def firstAndLast(self, arr, n, x):\n",
    "        left = self.search(arr, n, x, True)\n",
    "\n",
    "        if left != -1:\n",
    "            right = self.search(arr, n, x, False)\n",
    "            return [left, right]\n",
    "\n",
    "        return [left]"
   ]
  },
  {
   "cell_type": "code",
   "execution_count": 5,
   "metadata": {
    "collapsed": false
   },
   "outputs": [
    {
     "data": {
      "text/plain": [
       "[1, 2]"
      ]
     },
     "execution_count": 5,
     "metadata": {
     },
     "output_type": "execute_result"
    }
   ],
   "source": [
    "N = 4\n",
    "X = 3\n",
    "arr = [ 1, 3, 3, 4 ]\n",
    "solution = Solution()\n",
    "solution.firstAndLast(arr, N, X)"
   ]
  },
  {
   "cell_type": "code",
   "execution_count": 6,
   "metadata": {
    "collapsed": false
   },
   "outputs": [
    {
     "data": {
      "text/plain": [
       "[-1]"
      ]
     },
     "execution_count": 6,
     "metadata": {
     },
     "output_type": "execute_result"
    }
   ],
   "source": [
    "N = 4\n",
    "X = 5\n",
    "arr = [ 1, 3, 3, 4 ]\n",
    "solution = Solution()\n",
    "solution.firstAndLast(arr, N, X)"
   ]
  }
 ],
 "metadata": {
  "kernelspec": {
   "display_name": "Python 3 (system-wide)",
   "language": "python",
   "metadata": {
    "cocalc": {
     "description": "Python 3 programming language",
     "priority": 100,
     "url": "https://www.python.org/"
    }
   },
   "name": "python3",
   "resource_dir": "/ext/jupyter/kernels/python3"
  },
  "language_info": {
   "codemirror_mode": {
    "name": "ipython",
    "version": 3
   },
   "file_extension": ".py",
   "mimetype": "text/x-python",
   "name": "python",
   "nbconvert_exporter": "python",
   "pygments_lexer": "ipython3",
   "version": "3.8.10"
  }
 },
 "nbformat": 4,
 "nbformat_minor": 4
}