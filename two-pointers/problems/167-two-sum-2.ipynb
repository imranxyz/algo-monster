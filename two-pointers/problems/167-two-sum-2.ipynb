{
 "cells": [
  {
   "cell_type": "markdown",
   "metadata": {
    "collapsed": false
   },
   "source": [
    "### Problem Statement\n",
    "\n",
    "https://leetcode.com/problems/two-sum-ii-input-array-is-sorted/\n",
    "\n",
    "Given a `1-indexed` array of integers numbers that is already sorted in non-decreasing order, find two numbers such that they add up to a specific target number. Let these two numbers be `numbers[index1]` and `numbers[index2]` where `1 <= index1 < index2 <= numbers.length`.\n",
    "\n",
    "Return the indices of the two numbers, `index1` and `index2`, added by one as an integer `array [index1, index2]` of length `2`.\n",
    "\n",
    "The tests are generated such that there is exactly one solution. You may not use the same element twice.\n"
   ]
  },
  {
   "cell_type": "markdown",
   "metadata": {
    "collapsed": false
   },
   "source": [
    "### Analysis\n",
    "- ...\n",
    "\n",
    "### Complexity\n",
    "\n",
    "- Time: O(n)\n",
    "- Space: O(1)\n",
    "\n",
    "### Notes\n",
    "\n",
    "Just use 2 pointer technique"
   ]
  },
  {
   "cell_type": "code",
   "execution_count": 1,
   "metadata": {
    "collapsed": false
   },
   "outputs": [],
   "source": [
    "from typing import List\n",
    "\n",
    "class Solution:\n",
    "    def twoSum(self, numbers: List[int], target: int) -> List[int]:\n",
    "        if len(numbers) < 2:\n",
    "            return []\n",
    "\n",
    "        left = 0\n",
    "        right = len(numbers) - 1\n",
    "\n",
    "        while left < right:\n",
    "            current_sum = sum((numbers[left], numbers[right]))\n",
    "\n",
    "            if current_sum == target:\n",
    "                return [left+1, right+1]\n",
    "            elif current_sum < target:\n",
    "                left += 1\n",
    "            # current_sum > target\n",
    "            else:\n",
    "                right -= 1\n",
    "\n",
    "        return []"
   ]
  },
  {
   "cell_type": "code",
   "execution_count": 2,
   "metadata": {
    "collapsed": false
   },
   "outputs": [
    {
     "data": {
      "text/plain": [
       "[1, 2]"
      ]
     },
     "execution_count": 2,
     "metadata": {},
     "output_type": "execute_result"
    }
   ],
   "source": [
    "numbers = [2,7,11,15]\n",
    "target = 9\n",
    "\n",
    "solution = Solution()\n",
    "solution.twoSum(numbers, target)\n"
   ]
  }
 ],
 "metadata": {
  "kernelspec": {
   "display_name": "Python 3 (system-wide)",
   "language": "python",
   "metadata": {
    "cocalc": {
     "description": "Python 3 programming language",
     "priority": 100,
     "url": "https://www.python.org/"
    }
   },
   "name": "python3",
   "resource_dir": "/ext/jupyter/kernels/python3"
  },
  "language_info": {
   "codemirror_mode": {
    "name": "ipython",
    "version": 3
   },
   "file_extension": ".py",
   "mimetype": "text/x-python",
   "name": "python",
   "nbconvert_exporter": "python",
   "pygments_lexer": "ipython3",
   "version": "3.8.10"
  }
 },
 "nbformat": 4,
 "nbformat_minor": 4
}
