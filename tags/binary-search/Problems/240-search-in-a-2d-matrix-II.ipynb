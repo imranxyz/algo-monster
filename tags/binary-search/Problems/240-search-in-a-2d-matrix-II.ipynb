{
 "cells": [
  {
   "cell_type": "markdown",
   "metadata": {
    "collapsed": false
   },
   "source": [
    "### Problem Statement\n",
    "\n",
    "- https://leetcode.com/problems/search-a-2d-matrix-ii/\n",
    "\n",
    "Write an efficient algorithm that searches for a value `target` in an `m x n` integer matrix `matrix`. This matrix has the following properties:\n",
    "\n",
    "- Integers in each row are sorted in ascending from left to right.\n",
    "- Integers in each column are sorted in ascending from top to bottom.\n",
    "\n",
    "OR\n",
    "\n",
    "Given an `n x n` matrix and an integer `x`, find the position of `x` in the matrix if it is present. Otherwise, print `Element not found`”. Every row and column of the matrix is sorted in increasing order. The designed algorithm should have linear time complexity. \n",
    "\n",
    "- https://www.geeksforgeeks.org/search-in-row-wise-and-column-wise-sorted-matrix/\n",
    "\n",
    "![2d-matrix](https://assets.leetcode.com/uploads/2020/11/24/searchgrid2.jpg)"
   ]
  },
  {
   "cell_type": "code",
   "execution_count": 0,
   "metadata": {
    "collapsed": false
   },
   "outputs": [
   ],
   "source": [
    "from typing import List\n",
    "\n",
    "# O(n+m) | O(1)\n",
    "class Solution:\n",
    "    def searchMatrix(self, matrix: List[List[int]], target: int) -> bool:\n",
    "        if len(matrix) == 0:\n",
    "            return False\n",
    "\n",
    "        row = len(matrix)\n",
    "        column = len(matrix[0])\n",
    "\n",
    "        i = 0\n",
    "        j = column - 1\n",
    "\n",
    "        while i < row and j >= 0:\n",
    "            if matrix[i][j] == target:\n",
    "                return True\n",
    "            elif target > matrix[i][j]:\n",
    "                i += 1\n",
    "            else:\n",
    "                j -= 1\n",
    "\n",
    "        return False"
   ]
  },
  {
   "cell_type": "code",
   "execution_count": 2,
   "metadata": {
    "collapsed": false
   },
   "outputs": [
   ],
   "source": [
    "solution = Solution()"
   ]
  },
  {
   "cell_type": "code",
   "execution_count": 3,
   "metadata": {
    "collapsed": false
   },
   "outputs": [
    {
     "data": {
      "text/plain": [
       "True"
      ]
     },
     "execution_count": 3,
     "metadata": {
     },
     "output_type": "execute_result"
    }
   ],
   "source": [
    "matrix = [[1,4,7,11,15],[2,5,8,12,19],[3,6,9,16,22],[10,13,14,17,24],[18,21,23,26,30]]\n",
    "target = 5\n",
    "solution.searchMatrix(matrix, target)"
   ]
  },
  {
   "cell_type": "code",
   "execution_count": 4,
   "metadata": {
    "collapsed": false
   },
   "outputs": [
    {
     "data": {
      "text/plain": [
       "False"
      ]
     },
     "execution_count": 4,
     "metadata": {
     },
     "output_type": "execute_result"
    }
   ],
   "source": [
    "matrix = [[1,4,7,11,15],[2,5,8,12,19],[3,6,9,16,22],[10,13,14,17,24],[18,21,23,26,30]]\n",
    "target = 20\n",
    "solution.searchMatrix(matrix, target)"
   ]
  }
 ],
 "metadata": {
  "kernelspec": {
   "display_name": "Python 3 (system-wide)",
   "language": "python",
   "metadata": {
    "cocalc": {
     "description": "Python 3 programming language",
     "priority": 100,
     "url": "https://www.python.org/"
    }
   },
   "name": "python3",
   "resource_dir": "/ext/jupyter/kernels/python3"
  },
  "language_info": {
   "codemirror_mode": {
    "name": "ipython",
    "version": 3
   },
   "file_extension": ".py",
   "mimetype": "text/x-python",
   "name": "python",
   "nbconvert_exporter": "python",
   "pygments_lexer": "ipython3",
   "version": "3.8.10"
  }
 },
 "nbformat": 4,
 "nbformat_minor": 4
}